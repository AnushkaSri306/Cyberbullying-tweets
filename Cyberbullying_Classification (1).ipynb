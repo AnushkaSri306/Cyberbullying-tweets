{
 "cells": [
  {
   "cell_type": "markdown",
   "metadata": {},
   "source": [
    "## Importing libraries and gathering basic information"
   ]
  },
  {
   "cell_type": "code",
   "execution_count": 14,
   "metadata": {
    "id": "Sl_Nt8JlQih0"
   },
   "outputs": [],
   "source": [
    "import pandas as pd\n",
    "import numpy as np\n",
    "import matplotlib.pyplot as plt\n",
    "import seaborn as sns"
   ]
  },
  {
   "cell_type": "code",
   "execution_count": 15,
   "metadata": {
    "colab": {
     "base_uri": "https://localhost:8080/",
     "height": 143
    },
    "id": "4QTFHTNQRXOC",
    "outputId": "ccaeb259-a17e-4f00-a313-26bae400698e"
   },
   "outputs": [
    {
     "ename": "FileNotFoundError",
     "evalue": "[Errno 2] No such file or directory: 'cyberbullying_tweets.csv'",
     "output_type": "error",
     "traceback": [
      "\u001b[1;31m---------------------------------------------------------------------------\u001b[0m",
      "\u001b[1;31mFileNotFoundError\u001b[0m                         Traceback (most recent call last)",
      "Cell \u001b[1;32mIn[15], line 1\u001b[0m\n\u001b[1;32m----> 1\u001b[0m df\u001b[38;5;241m=\u001b[39mpd\u001b[38;5;241m.\u001b[39mread_csv(\u001b[38;5;124m'\u001b[39m\u001b[38;5;124mcyberbullying_tweets.csv\u001b[39m\u001b[38;5;124m'\u001b[39m,header\u001b[38;5;241m=\u001b[39m\u001b[38;5;28;01mNone\u001b[39;00m)\n\u001b[0;32m      2\u001b[0m df\u001b[38;5;241m.\u001b[39mhead(\u001b[38;5;241m3\u001b[39m)\n",
      "File \u001b[1;32m~\\anaconda3\\Lib\\site-packages\\pandas\\io\\parsers\\readers.py:1026\u001b[0m, in \u001b[0;36mread_csv\u001b[1;34m(filepath_or_buffer, sep, delimiter, header, names, index_col, usecols, dtype, engine, converters, true_values, false_values, skipinitialspace, skiprows, skipfooter, nrows, na_values, keep_default_na, na_filter, verbose, skip_blank_lines, parse_dates, infer_datetime_format, keep_date_col, date_parser, date_format, dayfirst, cache_dates, iterator, chunksize, compression, thousands, decimal, lineterminator, quotechar, quoting, doublequote, escapechar, comment, encoding, encoding_errors, dialect, on_bad_lines, delim_whitespace, low_memory, memory_map, float_precision, storage_options, dtype_backend)\u001b[0m\n\u001b[0;32m   1013\u001b[0m kwds_defaults \u001b[38;5;241m=\u001b[39m _refine_defaults_read(\n\u001b[0;32m   1014\u001b[0m     dialect,\n\u001b[0;32m   1015\u001b[0m     delimiter,\n\u001b[1;32m   (...)\u001b[0m\n\u001b[0;32m   1022\u001b[0m     dtype_backend\u001b[38;5;241m=\u001b[39mdtype_backend,\n\u001b[0;32m   1023\u001b[0m )\n\u001b[0;32m   1024\u001b[0m kwds\u001b[38;5;241m.\u001b[39mupdate(kwds_defaults)\n\u001b[1;32m-> 1026\u001b[0m \u001b[38;5;28;01mreturn\u001b[39;00m _read(filepath_or_buffer, kwds)\n",
      "File \u001b[1;32m~\\anaconda3\\Lib\\site-packages\\pandas\\io\\parsers\\readers.py:620\u001b[0m, in \u001b[0;36m_read\u001b[1;34m(filepath_or_buffer, kwds)\u001b[0m\n\u001b[0;32m    617\u001b[0m _validate_names(kwds\u001b[38;5;241m.\u001b[39mget(\u001b[38;5;124m\"\u001b[39m\u001b[38;5;124mnames\u001b[39m\u001b[38;5;124m\"\u001b[39m, \u001b[38;5;28;01mNone\u001b[39;00m))\n\u001b[0;32m    619\u001b[0m \u001b[38;5;66;03m# Create the parser.\u001b[39;00m\n\u001b[1;32m--> 620\u001b[0m parser \u001b[38;5;241m=\u001b[39m TextFileReader(filepath_or_buffer, \u001b[38;5;241m*\u001b[39m\u001b[38;5;241m*\u001b[39mkwds)\n\u001b[0;32m    622\u001b[0m \u001b[38;5;28;01mif\u001b[39;00m chunksize \u001b[38;5;129;01mor\u001b[39;00m iterator:\n\u001b[0;32m    623\u001b[0m     \u001b[38;5;28;01mreturn\u001b[39;00m parser\n",
      "File \u001b[1;32m~\\anaconda3\\Lib\\site-packages\\pandas\\io\\parsers\\readers.py:1620\u001b[0m, in \u001b[0;36mTextFileReader.__init__\u001b[1;34m(self, f, engine, **kwds)\u001b[0m\n\u001b[0;32m   1617\u001b[0m     \u001b[38;5;28mself\u001b[39m\u001b[38;5;241m.\u001b[39moptions[\u001b[38;5;124m\"\u001b[39m\u001b[38;5;124mhas_index_names\u001b[39m\u001b[38;5;124m\"\u001b[39m] \u001b[38;5;241m=\u001b[39m kwds[\u001b[38;5;124m\"\u001b[39m\u001b[38;5;124mhas_index_names\u001b[39m\u001b[38;5;124m\"\u001b[39m]\n\u001b[0;32m   1619\u001b[0m \u001b[38;5;28mself\u001b[39m\u001b[38;5;241m.\u001b[39mhandles: IOHandles \u001b[38;5;241m|\u001b[39m \u001b[38;5;28;01mNone\u001b[39;00m \u001b[38;5;241m=\u001b[39m \u001b[38;5;28;01mNone\u001b[39;00m\n\u001b[1;32m-> 1620\u001b[0m \u001b[38;5;28mself\u001b[39m\u001b[38;5;241m.\u001b[39m_engine \u001b[38;5;241m=\u001b[39m \u001b[38;5;28mself\u001b[39m\u001b[38;5;241m.\u001b[39m_make_engine(f, \u001b[38;5;28mself\u001b[39m\u001b[38;5;241m.\u001b[39mengine)\n",
      "File \u001b[1;32m~\\anaconda3\\Lib\\site-packages\\pandas\\io\\parsers\\readers.py:1880\u001b[0m, in \u001b[0;36mTextFileReader._make_engine\u001b[1;34m(self, f, engine)\u001b[0m\n\u001b[0;32m   1878\u001b[0m     \u001b[38;5;28;01mif\u001b[39;00m \u001b[38;5;124m\"\u001b[39m\u001b[38;5;124mb\u001b[39m\u001b[38;5;124m\"\u001b[39m \u001b[38;5;129;01mnot\u001b[39;00m \u001b[38;5;129;01min\u001b[39;00m mode:\n\u001b[0;32m   1879\u001b[0m         mode \u001b[38;5;241m+\u001b[39m\u001b[38;5;241m=\u001b[39m \u001b[38;5;124m\"\u001b[39m\u001b[38;5;124mb\u001b[39m\u001b[38;5;124m\"\u001b[39m\n\u001b[1;32m-> 1880\u001b[0m \u001b[38;5;28mself\u001b[39m\u001b[38;5;241m.\u001b[39mhandles \u001b[38;5;241m=\u001b[39m get_handle(\n\u001b[0;32m   1881\u001b[0m     f,\n\u001b[0;32m   1882\u001b[0m     mode,\n\u001b[0;32m   1883\u001b[0m     encoding\u001b[38;5;241m=\u001b[39m\u001b[38;5;28mself\u001b[39m\u001b[38;5;241m.\u001b[39moptions\u001b[38;5;241m.\u001b[39mget(\u001b[38;5;124m\"\u001b[39m\u001b[38;5;124mencoding\u001b[39m\u001b[38;5;124m\"\u001b[39m, \u001b[38;5;28;01mNone\u001b[39;00m),\n\u001b[0;32m   1884\u001b[0m     compression\u001b[38;5;241m=\u001b[39m\u001b[38;5;28mself\u001b[39m\u001b[38;5;241m.\u001b[39moptions\u001b[38;5;241m.\u001b[39mget(\u001b[38;5;124m\"\u001b[39m\u001b[38;5;124mcompression\u001b[39m\u001b[38;5;124m\"\u001b[39m, \u001b[38;5;28;01mNone\u001b[39;00m),\n\u001b[0;32m   1885\u001b[0m     memory_map\u001b[38;5;241m=\u001b[39m\u001b[38;5;28mself\u001b[39m\u001b[38;5;241m.\u001b[39moptions\u001b[38;5;241m.\u001b[39mget(\u001b[38;5;124m\"\u001b[39m\u001b[38;5;124mmemory_map\u001b[39m\u001b[38;5;124m\"\u001b[39m, \u001b[38;5;28;01mFalse\u001b[39;00m),\n\u001b[0;32m   1886\u001b[0m     is_text\u001b[38;5;241m=\u001b[39mis_text,\n\u001b[0;32m   1887\u001b[0m     errors\u001b[38;5;241m=\u001b[39m\u001b[38;5;28mself\u001b[39m\u001b[38;5;241m.\u001b[39moptions\u001b[38;5;241m.\u001b[39mget(\u001b[38;5;124m\"\u001b[39m\u001b[38;5;124mencoding_errors\u001b[39m\u001b[38;5;124m\"\u001b[39m, \u001b[38;5;124m\"\u001b[39m\u001b[38;5;124mstrict\u001b[39m\u001b[38;5;124m\"\u001b[39m),\n\u001b[0;32m   1888\u001b[0m     storage_options\u001b[38;5;241m=\u001b[39m\u001b[38;5;28mself\u001b[39m\u001b[38;5;241m.\u001b[39moptions\u001b[38;5;241m.\u001b[39mget(\u001b[38;5;124m\"\u001b[39m\u001b[38;5;124mstorage_options\u001b[39m\u001b[38;5;124m\"\u001b[39m, \u001b[38;5;28;01mNone\u001b[39;00m),\n\u001b[0;32m   1889\u001b[0m )\n\u001b[0;32m   1890\u001b[0m \u001b[38;5;28;01massert\u001b[39;00m \u001b[38;5;28mself\u001b[39m\u001b[38;5;241m.\u001b[39mhandles \u001b[38;5;129;01mis\u001b[39;00m \u001b[38;5;129;01mnot\u001b[39;00m \u001b[38;5;28;01mNone\u001b[39;00m\n\u001b[0;32m   1891\u001b[0m f \u001b[38;5;241m=\u001b[39m \u001b[38;5;28mself\u001b[39m\u001b[38;5;241m.\u001b[39mhandles\u001b[38;5;241m.\u001b[39mhandle\n",
      "File \u001b[1;32m~\\anaconda3\\Lib\\site-packages\\pandas\\io\\common.py:873\u001b[0m, in \u001b[0;36mget_handle\u001b[1;34m(path_or_buf, mode, encoding, compression, memory_map, is_text, errors, storage_options)\u001b[0m\n\u001b[0;32m    868\u001b[0m \u001b[38;5;28;01melif\u001b[39;00m \u001b[38;5;28misinstance\u001b[39m(handle, \u001b[38;5;28mstr\u001b[39m):\n\u001b[0;32m    869\u001b[0m     \u001b[38;5;66;03m# Check whether the filename is to be opened in binary mode.\u001b[39;00m\n\u001b[0;32m    870\u001b[0m     \u001b[38;5;66;03m# Binary mode does not support 'encoding' and 'newline'.\u001b[39;00m\n\u001b[0;32m    871\u001b[0m     \u001b[38;5;28;01mif\u001b[39;00m ioargs\u001b[38;5;241m.\u001b[39mencoding \u001b[38;5;129;01mand\u001b[39;00m \u001b[38;5;124m\"\u001b[39m\u001b[38;5;124mb\u001b[39m\u001b[38;5;124m\"\u001b[39m \u001b[38;5;129;01mnot\u001b[39;00m \u001b[38;5;129;01min\u001b[39;00m ioargs\u001b[38;5;241m.\u001b[39mmode:\n\u001b[0;32m    872\u001b[0m         \u001b[38;5;66;03m# Encoding\u001b[39;00m\n\u001b[1;32m--> 873\u001b[0m         handle \u001b[38;5;241m=\u001b[39m \u001b[38;5;28mopen\u001b[39m(\n\u001b[0;32m    874\u001b[0m             handle,\n\u001b[0;32m    875\u001b[0m             ioargs\u001b[38;5;241m.\u001b[39mmode,\n\u001b[0;32m    876\u001b[0m             encoding\u001b[38;5;241m=\u001b[39mioargs\u001b[38;5;241m.\u001b[39mencoding,\n\u001b[0;32m    877\u001b[0m             errors\u001b[38;5;241m=\u001b[39merrors,\n\u001b[0;32m    878\u001b[0m             newline\u001b[38;5;241m=\u001b[39m\u001b[38;5;124m\"\u001b[39m\u001b[38;5;124m\"\u001b[39m,\n\u001b[0;32m    879\u001b[0m         )\n\u001b[0;32m    880\u001b[0m     \u001b[38;5;28;01melse\u001b[39;00m:\n\u001b[0;32m    881\u001b[0m         \u001b[38;5;66;03m# Binary mode\u001b[39;00m\n\u001b[0;32m    882\u001b[0m         handle \u001b[38;5;241m=\u001b[39m \u001b[38;5;28mopen\u001b[39m(handle, ioargs\u001b[38;5;241m.\u001b[39mmode)\n",
      "\u001b[1;31mFileNotFoundError\u001b[0m: [Errno 2] No such file or directory: 'cyberbullying_tweets.csv'"
     ]
    }
   ],
   "source": [
    "df=pd.read_csv('cyberbullying_tweets.csv',header=None)\n",
    "df.head(3)"
   ]
  },
  {
   "cell_type": "code",
   "execution_count": null,
   "metadata": {
    "id": "LMhA6UW_bO3c"
   },
   "outputs": [],
   "source": [
    "df.columns = df.iloc[0]\n",
    "df = df[1:].reset_index(drop=True)"
   ]
  },
  {
   "cell_type": "code",
   "execution_count": null,
   "metadata": {
    "colab": {
     "base_uri": "https://localhost:8080/"
    },
    "id": "HS-XQg9zRlQl",
    "outputId": "bc5eb32a-4e42-42c7-a2f9-f0c9ccf683be"
   },
   "outputs": [],
   "source": [
    "df.shape"
   ]
  },
  {
   "cell_type": "code",
   "execution_count": null,
   "metadata": {
    "colab": {
     "base_uri": "https://localhost:8080/",
     "height": 303
    },
    "id": "yPZrioQjRq21",
    "outputId": "52bb181b-275d-4a7b-b45b-84c97693a1f7"
   },
   "outputs": [],
   "source": [
    "df['cyberbullying_type'].value_counts()"
   ]
  },
  {
   "cell_type": "code",
   "execution_count": null,
   "metadata": {
    "colab": {
     "base_uri": "https://localhost:8080/",
     "height": 178
    },
    "id": "xTs7-8DZSTcL",
    "outputId": "ca5f7894-9a97-48fc-a0aa-f365af1a7964"
   },
   "outputs": [],
   "source": [
    "df.isnull().sum()"
   ]
  },
  {
   "cell_type": "code",
   "execution_count": null,
   "metadata": {
    "colab": {
     "base_uri": "https://localhost:8080/",
     "height": 1000
    },
    "id": "UaUnjCTpts_0",
    "outputId": "1eea0818-2f3a-4df2-a4cb-bfd5d89c2a93"
   },
   "outputs": [],
   "source": [
    "df[df.duplicated()]"
   ]
  },
  {
   "cell_type": "code",
   "execution_count": null,
   "metadata": {
    "id": "Bh_ZcBBKttC7"
   },
   "outputs": [],
   "source": [
    "df=df.drop_duplicates()"
   ]
  },
  {
   "cell_type": "code",
   "execution_count": null,
   "metadata": {
    "colab": {
     "base_uri": "https://localhost:8080/"
    },
    "id": "K11dPpjnttGZ",
    "outputId": "1f4f35cf-d9fb-402d-872d-ce35d1a54807"
   },
   "outputs": [],
   "source": [
    "df.duplicated().sum()"
   ]
  },
  {
   "cell_type": "markdown",
   "metadata": {},
   "source": [
    "### Gathering info about hashtags and mentions"
   ]
  },
  {
   "cell_type": "code",
   "execution_count": null,
   "metadata": {
    "colab": {
     "base_uri": "https://localhost:8080/"
    },
    "id": "HARDA7S92n9s",
    "outputId": "e5d76787-43ab-4f32-9267-6d2e99925727"
   },
   "outputs": [],
   "source": [
    "import re\n",
    "\n",
    "# Check if 'tweet_text' column exists\n",
    "if 'tweet_text' in df.columns:\n",
    "    # Count hashtags per tweet\n",
    "    df['num_hashtags'] = df['tweet_text'].apply(lambda x: len(re.findall(r'#\\w+', str(x))))\n",
    "\n",
    "    # Count mentions per tweet\n",
    "    df['num_mentions'] = df['tweet_text'].apply(lambda x: len(re.findall(r'@\\w+', str(x))))\n",
    "\n",
    "    # Calculate total counts\n",
    "    total_hashtags = df['num_hashtags'].sum()\n",
    "    total_mentions = df['num_mentions'].sum()\n",
    "\n",
    "    print(f\"Total number of hashtags in dataset: {total_hashtags}\")\n",
    "    print(f\"Total number of mentions in dataset: {total_mentions}\")\n",
    "\n",
    "    # Display sample rows with counts\n",
    "    print(df[['tweet_text', 'num_hashtags', 'num_mentions']].head(5))\n",
    "else:\n",
    "    print(\"Column 'tweet_text' not found in the dataset. Please verify the column name.\")\n"
   ]
  },
  {
   "cell_type": "code",
   "execution_count": null,
   "metadata": {
    "colab": {
     "base_uri": "https://localhost:8080/"
    },
    "id": "aH7CMkkr3C7c",
    "outputId": "b3b9bad7-1f14-4cfc-c0e8-745fdd9b35a4"
   },
   "outputs": [],
   "source": [
    "# finding all hashtags\n",
    "if 'tweet_text' in df.columns:\n",
    "  df['hashtags']=df['tweet_text'].apply(lambda x: len(re.findall(r'#\\w+',str(x))))\n",
    "  total_hashtags=(df['hashtags'].sum())\n",
    "  print(total_hashtags)\n"
   ]
  },
  {
   "cell_type": "code",
   "execution_count": null,
   "metadata": {},
   "outputs": [],
   "source": []
  },
  {
   "cell_type": "code",
   "execution_count": null,
   "metadata": {},
   "outputs": [],
   "source": [
    "df.head(10)"
   ]
  },
  {
   "cell_type": "code",
   "execution_count": null,
   "metadata": {
    "colab": {
     "base_uri": "https://localhost:8080/"
    },
    "id": "HbVDM_pK3-Wx",
    "outputId": "2b4f27fe-e4da-422e-e869-7fc93b67127e"
   },
   "outputs": [],
   "source": [
    "# most used hashtags\n",
    "from collections import Counter\n",
    "\n",
    "# Check if 'tweet_text' column exists\n",
    "if 'tweet_text' in df.columns:\n",
    "    # Extract all hashtags from the dataset\n",
    "    all_hashtags = df['tweet_text'].apply(lambda x: re.findall(r'#\\w+', str(x))).sum()\n",
    "\n",
    "    # Count frequency of each hashtag\n",
    "    hashtag_counts = Counter(all_hashtags)\n",
    "\n",
    "    # Convert to a DataFrame for better readability\n",
    "    hashtag_df = pd.DataFrame(hashtag_counts.items(), columns=['Hashtag', 'Count'])\n",
    "    hashtag_df = hashtag_df.sort_values(by='Count', ascending=False).reset_index(drop=True)\n",
    "\n",
    "    print(\"Top 10 most frequently used hashtags:\")\n",
    "    print(hashtag_df.head(10))\n",
    "else:\n",
    "    print(\"Column 'tweet_text' not found in the dataset. Please verify the column name.\")\n"
   ]
  },
  {
   "cell_type": "code",
   "execution_count": null,
   "metadata": {
    "colab": {
     "base_uri": "https://localhost:8080/",
     "height": 206
    },
    "id": "N34Y8RFa5Knc",
    "outputId": "d430f71d-4917-46b4-d85b-53504e197ea1"
   },
   "outputs": [],
   "source": [
    "df.head()"
   ]
  },
  {
   "cell_type": "code",
   "execution_count": null,
   "metadata": {
    "colab": {
     "base_uri": "https://localhost:8080/"
    },
    "id": "s_Vz-ROt5RDr",
    "outputId": "cf610c90-9927-4d87-aedb-694600c614cb"
   },
   "outputs": [],
   "source": [
    "df.columns"
   ]
  },
  {
   "cell_type": "code",
   "execution_count": null,
   "metadata": {
    "colab": {
     "base_uri": "https://localhost:8080/"
    },
    "id": "EWLyJuHLWp8A",
    "outputId": "8a608308-d641-4bb5-bc3b-8a008f156945"
   },
   "outputs": [],
   "source": [
    "# converting text to lowercase\n",
    "df=df.applymap(lambda x:x.lower() if isinstance(x,str)else x)"
   ]
  },
  {
   "cell_type": "code",
   "execution_count": null,
   "metadata": {
    "colab": {
     "base_uri": "https://localhost:8080/"
    },
    "id": "RgMQ2fvm6p_X",
    "outputId": "0eb3b0d7-3575-4d61-d95b-b9e19cd0075d"
   },
   "outputs": [],
   "source": [
    "\n",
    "\n",
    "# Step 1: Extract hashtags from the 'tweet_text' column using a regular expression\n",
    "def extract_hashtags(text):\n",
    "    return re.findall(r'#\\w+', text)\n",
    "\n",
    "df['hashtags'] = df['tweet_text'].apply(extract_hashtags)\n",
    "\n",
    "# Step 2: Explode the 'hashtags' column to have each hashtag in its own row\n",
    "df_exploded = df.explode('hashtags')\n",
    "\n",
    "# Step 3: Remove any rows where hashtags are missing (if any)\n",
    "df_exploded = df_exploded[df_exploded['hashtags'].notna()]\n",
    "\n",
    "# Step 4: Group by 'cyberbullying_type' and 'hashtags' to count occurrences\n",
    "hashtag_counts = df_exploded.groupby(['cyberbullying_type', 'hashtags']).size().reset_index(name='count')\n",
    "\n",
    "# Step 5: Find the most frequent hashtag for each 'cyberbullying_type'\n",
    "most_used_hashtags = hashtag_counts.loc[hashtag_counts.groupby('cyberbullying_type')['count'].idxmax()]\n",
    "\n",
    "# Step 6: Display the results\n",
    "print(most_used_hashtags[['cyberbullying_type', 'hashtags', 'count']])\n"
   ]
  },
  {
   "cell_type": "code",
   "execution_count": null,
   "metadata": {
    "colab": {
     "base_uri": "https://localhost:8080/"
    },
    "id": "pU8cLCU364eq",
    "outputId": "15742e36-458d-4c7f-e6d7-c3815445f334"
   },
   "outputs": [],
   "source": [
    "import pandas as pd\n",
    "import re\n",
    "\n",
    "\n",
    "\n",
    "# Step 1: Extract mentions (usernames starting with '@') from the 'tweet_text' column using a regular expression\n",
    "def extract_mentions(text):\n",
    "    return re.findall(r'@\\w+', text)\n",
    "\n",
    "df['mentions'] = df['tweet_text'].apply(extract_mentions)\n",
    "\n",
    "# Step 2: Explode the 'mentions' column to have each mention in its own row\n",
    "df_exploded_mentions = df.explode('mentions')\n",
    "\n",
    "# Step 3: Remove any rows where mentions are missing (if any)\n",
    "df_exploded_mentions = df_exploded_mentions[df_exploded_mentions['mentions'].notna()]\n",
    "\n",
    "# Step 4: Group by 'cyberbullying_type' and 'mentions' to count occurrences\n",
    "mention_counts = df_exploded_mentions.groupby(['cyberbullying_type', 'mentions']).size().reset_index(name='count')\n",
    "\n",
    "# Step 5: Find the most frequent mention for each 'cyberbullying_type'\n",
    "most_used_mentions = mention_counts.loc[mention_counts.groupby('cyberbullying_type')['count'].idxmax()]\n",
    "\n",
    "# Step 6: Display the results\n",
    "print(most_used_mentions[['cyberbullying_type', 'mentions', 'count']])\n"
   ]
  },
  {
   "cell_type": "code",
   "execution_count": null,
   "metadata": {
    "colab": {
     "base_uri": "https://localhost:8080/",
     "height": 147
    },
    "id": "WnFNcZAxY5Fh",
    "outputId": "482eec3b-671c-4da8-efea-b9cdc434928d"
   },
   "outputs": [],
   "source": [
    "df.head(10)"
   ]
  },
  {
   "cell_type": "markdown",
   "metadata": {},
   "source": [
    "## Data Preprocessing"
   ]
  },
  {
   "cell_type": "code",
   "execution_count": null,
   "metadata": {
    "colab": {
     "base_uri": "https://localhost:8080/"
    },
    "id": "6KOKjSqK06L_",
    "outputId": "04dcfa92-e3d6-4190-ba5c-ba4e7ffd87e8"
   },
   "outputs": [],
   "source": [
    "import nltk\n",
    "nltk.download('punkt_tab')"
   ]
  },
  {
   "cell_type": "code",
   "execution_count": null,
   "metadata": {
    "colab": {
     "base_uri": "https://localhost:8080/",
     "height": 684
    },
    "id": "lRHobgtdCoxi",
    "outputId": "3b061833-820e-407c-ecfb-7058a3c16fae"
   },
   "outputs": [],
   "source": [
    "# loading stopwords\n",
    "from nltk.corpus import stopwords\n",
    "from nltk.tokenize import sent_tokenize\n",
    "df['sentences'] = df['tweet_text'].apply(lambda text: sent_tokenize(text) if isinstance(text, str) else [])\n",
    "df"
   ]
  },
  {
   "cell_type": "code",
   "execution_count": null,
   "metadata": {
    "colab": {
     "base_uri": "https://localhost:8080/",
     "height": 684
    },
    "id": "sYAKkMpRmc5d",
    "outputId": "1ca74610-b4ad-4c51-dea3-7b8f9db5d91f"
   },
   "outputs": [],
   "source": [
    "# replacing numbers with blank\n",
    "def num_to_text(tweet):\n",
    "  for i in df:\n",
    "    if i.isdigit():\n",
    "      tweet=tweet.replace(i,'')\n",
    "  return tweet\n",
    "\n",
    "num_to_text(df)"
   ]
  },
  {
   "cell_type": "code",
   "execution_count": null,
   "metadata": {
    "colab": {
     "base_uri": "https://localhost:8080/",
     "height": 247
    },
    "id": "eXYcrZNrpJ_X",
    "outputId": "10c83af6-850d-4920-f54f-803387b4dec9"
   },
   "outputs": [],
   "source": [
    "# tokenize\n",
    "df['words']=df['tweet_text'].apply(lambda x:x.split())\n",
    "df.head(3)"
   ]
  },
  {
   "cell_type": "code",
   "execution_count": null,
   "metadata": {
    "colab": {
     "base_uri": "https://localhost:8080/",
     "height": 247
    },
    "id": "KjbXQg-5p9LP",
    "outputId": "fcbc17ab-638d-439f-da99-33319c583456"
   },
   "outputs": [],
   "source": [
    "# removing special chars\n",
    "import re\n",
    "df['words'] = df['tweet_text'].apply(lambda x: re.findall(r'\\b\\w+\\b', x.lower()))\n",
    "df.head(3)"
   ]
  },
  {
   "cell_type": "markdown",
   "metadata": {},
   "source": [
    "### dealing with stopwords"
   ]
  },
  {
   "cell_type": "code",
   "execution_count": null,
   "metadata": {
    "colab": {
     "base_uri": "https://localhost:8080/"
    },
    "id": "K2id8V2gqfnU",
    "outputId": "5d731d86-0bc7-4d18-e16d-9bf489c06d6f"
   },
   "outputs": [],
   "source": [
    "\n",
    "import nltk\n",
    "from nltk.corpus import stopwords\n",
    "nltk.download('stopwords')\n",
    "print(stopwords.words('english'))"
   ]
  },
  {
   "cell_type": "code",
   "execution_count": null,
   "metadata": {
    "id": "Gn-dA1lmVryE"
   },
   "outputs": [],
   "source": [
    "\n",
    "from nltk.tokenize import word_tokenize\n",
    "\n"
   ]
  },
  {
   "cell_type": "code",
   "execution_count": null,
   "metadata": {
    "id": "8KebH8wig36h"
   },
   "outputs": [],
   "source": [
    "# Define stopwords\n",
    "stopwords_set = set(stopwords.words('english'))\n",
    "\n",
    "# Remove stopwords from the 'words' column\n",
    "df['words_without_stopwords'] = df['words'].apply(lambda tokens: [word for word in tokens if word not in stopwords_set])\n"
   ]
  },
  {
   "cell_type": "code",
   "execution_count": null,
   "metadata": {
    "colab": {
     "base_uri": "https://localhost:8080/",
     "height": 337
    },
    "id": "XIKXms1ThBhH",
    "outputId": "fa43861a-2a0d-4722-b260-b577a0a53dff"
   },
   "outputs": [],
   "source": [
    "df.head(3)"
   ]
  },
  {
   "cell_type": "markdown",
   "metadata": {},
   "source": [
    "### lemmetization"
   ]
  },
  {
   "cell_type": "code",
   "execution_count": null,
   "metadata": {
    "colab": {
     "base_uri": "https://localhost:8080/"
    },
    "id": "VUFBBCmDiDwO",
    "outputId": "035f5b51-35ba-40d6-d7c5-f4885b1beee2"
   },
   "outputs": [],
   "source": [
    "\n",
    "from nltk.stem import WordNetLemmatizer\n",
    "nltk.download('wordnet')\n",
    "nltk.download('omw-1.4')"
   ]
  },
  {
   "cell_type": "code",
   "execution_count": null,
   "metadata": {
    "id": "X3NrySm6ihEy"
   },
   "outputs": [],
   "source": [
    "lemmatizer=WordNetLemmatizer()\n",
    "df['words_new']=df['words_without_stopwords'].apply(lambda x:[lemmatizer.lemmatize(word)for word in x])"
   ]
  },
  {
   "cell_type": "code",
   "execution_count": null,
   "metadata": {
    "colab": {
     "base_uri": "https://localhost:8080/"
    },
    "id": "qs-oGNAY0oVA",
    "outputId": "cebb35fc-0547-4bcf-c64e-707b187c9817"
   },
   "outputs": [],
   "source": [
    " nltk.download('averaged_perceptron_tagger_eng')"
   ]
  },
  {
   "cell_type": "markdown",
   "metadata": {},
   "source": [
    "### POS Tagging"
   ]
  },
  {
   "cell_type": "code",
   "execution_count": null,
   "metadata": {
    "id": "8DEzrqpOmmLY"
   },
   "outputs": [],
   "source": [
    "from nltk import pos_tag\n",
    "\n",
    "# Function to tokenize and tag POS\n",
    "def pos_tagging(text):\n",
    "    tokens = word_tokenize(text)  # Tokenize text\n",
    "    tagged_tokens = pos_tag(tokens)  # Tag POS\n",
    "    return tagged_tokens\n",
    "\n",
    "# Apply POS tagging to the 'tweet_text' column\n",
    "df['tweet_text_POS'] = df['tweet_text'].apply(pos_tagging)"
   ]
  },
  {
   "cell_type": "code",
   "execution_count": null,
   "metadata": {
    "id": "j_lD8e8P-KmD"
   },
   "outputs": [],
   "source": []
  },
  {
   "cell_type": "code",
   "execution_count": null,
   "metadata": {
    "colab": {
     "base_uri": "https://localhost:8080/",
     "height": 337
    },
    "id": "h5Z2vZcTCOEJ",
    "outputId": "52e65f67-0e61-43e5-cde1-dbb2f5dd8df3",
    "scrolled": true
   },
   "outputs": [],
   "source": [
    "df.head(3)"
   ]
  },
  {
   "cell_type": "code",
   "execution_count": null,
   "metadata": {
    "colab": {
     "base_uri": "https://localhost:8080/",
     "height": 337
    },
    "id": "Fj0fcE3L_S4x",
    "outputId": "ed8e1f34-6adc-4b8a-c8e2-0e83dd2902c1"
   },
   "outputs": [],
   "source": [
    "df['tweet_length'] = df['tweet_text'].apply(len)\n",
    "df.tail(3)"
   ]
  },
  {
   "cell_type": "markdown",
   "metadata": {
    "id": "jynuiJH7oevQ"
   },
   "source": [
    "# WORD2VEC"
   ]
  },
  {
   "cell_type": "code",
   "execution_count": null,
   "metadata": {
    "colab": {
     "base_uri": "https://localhost:8080/"
    },
    "id": "Cbx3rSnonI7X",
    "outputId": "f303b753-1e96-47e7-c605-d989de1c5166"
   },
   "outputs": [],
   "source": [
    "#WORD2VEC\n",
    "\n",
    "!pip install gensim"
   ]
  },
  {
   "cell_type": "code",
   "execution_count": null,
   "metadata": {
    "id": "jZ5OR1t2oyZP"
   },
   "outputs": [],
   "source": [
    "from gensim.models import Word2Vec,KeyedVectors"
   ]
  },
  {
   "cell_type": "code",
   "execution_count": null,
   "metadata": {
    "colab": {
     "base_uri": "https://localhost:8080/"
    },
    "id": "mP6QXgSwpBBL",
    "outputId": "917ae450-cdee-495a-a7f2-b2682be4d6ea"
   },
   "outputs": [],
   "source": [
    "import gensim.downloader as api\n",
    "\n",
    "wv = api.load('word2vec-google-news-300')\n",
    "\n",
    "vec_king = wv['king']"
   ]
  },
  {
   "cell_type": "code",
   "execution_count": null,
   "metadata": {
    "id": "aedPJkC859IL"
   },
   "outputs": [],
   "source": [
    "\n",
    "\n",
    "# Train Skip-gram Model\n",
    "skipgram_model = Word2Vec(\n",
    "    sentences=df['words_without_stopwords'],  # Use preprocessed words\n",
    "    vector_size=100,  # Vector dimension\n",
    "    window=5,\n",
    "    sg=1,  # Skip-gram\n",
    "    min_count=1,\n",
    "    workers=4,\n",
    "    epochs=10\n",
    ")\n",
    "\n",
    "# Function to get average word vectors for each tweet\n",
    "def get_avg_word_vector(tokens, model):\n",
    "    vectors = [model.wv[word] for word in tokens if word in model.wv]\n",
    "    if len(vectors) == 0:\n",
    "        return np.zeros(model.vector_size)\n",
    "    return np.mean(vectors, axis=0)\n",
    "\n",
    "# Apply average word vector transformation\n",
    "df['tweet_vector'] = df['words_without_stopwords'].apply(lambda x: get_avg_word_vector(x, skipgram_model))\n",
    "\n",
    "# Convert list of vectors into a DataFrame\n",
    "tweet_vector_df = pd.DataFrame(df['tweet_vector'].tolist())\n"
   ]
  },
  {
   "cell_type": "code",
   "execution_count": null,
   "metadata": {
    "id": "D07umc8i7eP8"
   },
   "outputs": [],
   "source": [
    "# Select numeric features\n",
    "numeric_features = df[['num_hashtags', 'num_mentions', 'tweet_length']]\n",
    "\n",
    "# Combine numeric and text vector features\n",
    "\n",
    "\n",
    "X_combined = pd.concat([numeric_features.reset_index(drop=True), tweet_vector_df.reset_index(drop=True)], axis=1)\n",
    "y = df['cyberbullying_type']  # Target variable\n"
   ]
  },
  {
   "cell_type": "code",
   "execution_count": null,
   "metadata": {
    "colab": {
     "base_uri": "https://localhost:8080/",
     "height": 337
    },
    "id": "NXj73f2576pQ",
    "outputId": "de087579-2165-4970-e72b-1982e72846ad"
   },
   "outputs": [],
   "source": [
    "df.head(3)"
   ]
  },
  {
   "cell_type": "markdown",
   "metadata": {},
   "source": [
    "## Model Training"
   ]
  },
  {
   "cell_type": "code",
   "execution_count": null,
   "metadata": {
    "id": "aEqjIQIf8JAk"
   },
   "outputs": [],
   "source": [
    "\n",
    "from sklearn.model_selection import train_test_split\n",
    "from sklearn.preprocessing import LabelEncoder\n",
    "\n",
    "# Extract features and target\n",
    "X = np.array(df['tweet_vector'].tolist())  # Convert list of vectors to a NumPy array\n",
    "y = df['cyberbullying_type']\n",
    "\n",
    "# Encode target labels\n",
    "label_encoder = LabelEncoder()\n",
    "y = label_encoder.fit_transform(y)\n",
    "\n",
    "# Train-test split\n",
    "X_train, X_test, y_train, y_test = train_test_split(X, y, test_size=0.2, random_state=42)\n"
   ]
  },
  {
   "cell_type": "code",
   "execution_count": null,
   "metadata": {
    "id": "SPjcJf1p8mS1"
   },
   "outputs": [],
   "source": [
    "# Reshape input data to 3D: (samples, timesteps, features)\n",
    "X_train_rnn = X_train.reshape((X_train.shape[0], X_train.shape[1], 1))\n",
    "X_test_rnn = X_test.reshape((X_test.shape[0], X_test.shape[1], 1))\n"
   ]
  },
  {
   "cell_type": "code",
   "execution_count": null,
   "metadata": {
    "colab": {
     "base_uri": "https://localhost:8080/",
     "height": 289
    },
    "id": "5dIyHECZ8piy",
    "outputId": "2dc74dc4-9476-49a8-9eee-672661fff401"
   },
   "outputs": [],
   "source": [
    "from tensorflow.keras.models import Sequential\n",
    "from tensorflow.keras.layers import SimpleRNN, Dense, Dropout, Input\n",
    "\n",
    "# Build RNN Model\n",
    "model = Sequential([\n",
    "    Input(shape=(X_train_rnn.shape[1], 1)),  # Updated input shape\n",
    "    SimpleRNN(64, activation='tanh', return_sequences=False),\n",
    "    Dropout(0.5),\n",
    "    Dense(32, activation='relu'),\n",
    "    Dropout(0.5),\n",
    "    Dense(len(label_encoder.classes_), activation='softmax')\n",
    "])\n",
    "\n",
    "# Compile the model\n",
    "model.compile(loss='sparse_categorical_crossentropy', optimizer='adam', metrics=['accuracy'])\n",
    "\n",
    "# Model Summary\n",
    "model.summary()\n"
   ]
  },
  {
   "cell_type": "code",
   "execution_count": null,
   "metadata": {
    "colab": {
     "base_uri": "https://localhost:8080/"
    },
    "id": "Ku9xv7qN8upM",
    "outputId": "6ecd8670-1573-49fb-b2c2-742852359b19"
   },
   "outputs": [],
   "source": [
    "# Train the model\n",
    "history = model.fit(\n",
    "    X_train_rnn, y_train,\n",
    "    validation_data=(X_test_rnn, y_test),\n",
    "    epochs=10,\n",
    "    batch_size=32,\n",
    "    verbose=1\n",
    ")\n"
   ]
  },
  {
   "cell_type": "code",
   "execution_count": null,
   "metadata": {
    "colab": {
     "base_uri": "https://localhost:8080/"
    },
    "id": "e-6Z7kRz-bYa",
    "outputId": "67c16c3a-35c1-42a1-d85f-c0f08a22d3a6"
   },
   "outputs": [],
   "source": [
    "print(\"Training Data Shape:\", X_train_rnn.shape)  # Should be (samples, 128, 1)\n",
    "print(\"Testing Data Shape:\", X_test_rnn.shape)    # Should be (samples, 128, 1)\n",
    "print(\"Labels Shape:\", y_train.shape, y_test.shape)  # Should match number of samples"
   ]
  },
  {
   "cell_type": "code",
   "execution_count": null,
   "metadata": {
    "id": "cl5CLeNpDa8B"
   },
   "outputs": [],
   "source": []
  },
  {
   "cell_type": "code",
   "execution_count": null,
   "metadata": {
    "colab": {
     "base_uri": "https://localhost:8080/"
    },
    "id": "OmmOALbp86Bt",
    "outputId": "b17197cf-4a0e-4cd3-8fa9-a12396b05ec0"
   },
   "outputs": [],
   "source": [
    "# Predictions\n",
    "y_pred = model.predict(X_test)\n",
    "y_pred_classes = y_pred.argmax(axis=1)\n",
    "\n",
    "# Classification Report\n",
    "from sklearn.metrics import classification_report\n",
    "print(classification_report(y_test, y_pred_classes, target_names=label_encoder.classes_))\n"
   ]
  },
  {
   "cell_type": "code",
   "execution_count": null,
   "metadata": {
    "colab": {
     "base_uri": "https://localhost:8080/",
     "height": 271
    },
    "id": "ZeMoNJWcIsvy",
    "outputId": "7c003f35-e0fb-4eb3-8118-78a45a5a1038"
   },
   "outputs": [],
   "source": [
    "df.head(2)"
   ]
  },
  {
   "cell_type": "code",
   "execution_count": null,
   "metadata": {},
   "outputs": [],
   "source": []
  }
 ],
 "metadata": {
  "colab": {
   "provenance": []
  },
  "kernelspec": {
   "display_name": "Python [conda env:base] *",
   "language": "python",
   "name": "conda-base-py"
  },
  "language_info": {
   "codemirror_mode": {
    "name": "ipython",
    "version": 3
   },
   "file_extension": ".py",
   "mimetype": "text/x-python",
   "name": "python",
   "nbconvert_exporter": "python",
   "pygments_lexer": "ipython3",
   "version": "3.12.7"
  }
 },
 "nbformat": 4,
 "nbformat_minor": 4
}
